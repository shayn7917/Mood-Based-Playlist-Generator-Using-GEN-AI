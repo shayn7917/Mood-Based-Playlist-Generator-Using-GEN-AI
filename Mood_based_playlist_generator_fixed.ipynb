{
 "cells": [
  {
   "cell_type": "code",
   "execution_count": null,
   "id": "6399d0b6",
   "metadata": {},
   "outputs": [],
   "source": [
    "\n",
    "!pip uninstall -y keras keras-nightly keras-preprocessing keras-vis keras-applications tensorflow tensorflow-gpu tf_keras\n",
    "!pip install torch transformers --upgrade --quiet\n"
   ]
  },
  {
   "cell_type": "code",
   "execution_count": 1,
   "id": "7dfbcd0e-9865-4c69-9c1a-53504392a686",
   "metadata": {},
   "outputs": [
    {
     "name": "stdout",
     "output_type": "stream",
     "text": [
      "Requirement already satisfied: transformers in c:\\users\\shishir\\appdata\\local\\programs\\python\\python313\\lib\\site-packages (4.51.3)\n",
      "Requirement already satisfied: torch in c:\\users\\shishir\\appdata\\local\\programs\\python\\python313\\lib\\site-packages (2.7.0)\n",
      "Requirement already satisfied: filelock in c:\\users\\shishir\\appdata\\local\\programs\\python\\python313\\lib\\site-packages (from transformers) (3.18.0)\n",
      "Requirement already satisfied: huggingface-hub<1.0,>=0.30.0 in c:\\users\\shishir\\appdata\\local\\programs\\python\\python313\\lib\\site-packages (from transformers) (0.31.1)\n",
      "Requirement already satisfied: numpy>=1.17 in c:\\users\\shishir\\appdata\\local\\programs\\python\\python313\\lib\\site-packages (from transformers) (2.2.2)\n",
      "Requirement already satisfied: packaging>=20.0 in c:\\users\\shishir\\appdata\\local\\programs\\python\\python313\\lib\\site-packages (from transformers) (24.2)\n",
      "Requirement already satisfied: pyyaml>=5.1 in c:\\users\\shishir\\appdata\\local\\programs\\python\\python313\\lib\\site-packages (from transformers) (6.0.2)\n",
      "Requirement already satisfied: regex!=2019.12.17 in c:\\users\\shishir\\appdata\\local\\programs\\python\\python313\\lib\\site-packages (from transformers) (2024.11.6)\n",
      "Requirement already satisfied: requests in c:\\users\\shishir\\appdata\\local\\programs\\python\\python313\\lib\\site-packages (from transformers) (2.32.3)\n",
      "Requirement already satisfied: tokenizers<0.22,>=0.21 in c:\\users\\shishir\\appdata\\local\\programs\\python\\python313\\lib\\site-packages (from transformers) (0.21.1)\n",
      "Requirement already satisfied: safetensors>=0.4.3 in c:\\users\\shishir\\appdata\\local\\programs\\python\\python313\\lib\\site-packages (from transformers) (0.5.3)\n",
      "Requirement already satisfied: tqdm>=4.27 in c:\\users\\shishir\\appdata\\local\\programs\\python\\python313\\lib\\site-packages (from transformers) (4.67.1)\n",
      "Requirement already satisfied: fsspec>=2023.5.0 in c:\\users\\shishir\\appdata\\local\\programs\\python\\python313\\lib\\site-packages (from huggingface-hub<1.0,>=0.30.0->transformers) (2025.3.0)\n",
      "Requirement already satisfied: typing-extensions>=3.7.4.3 in c:\\users\\shishir\\appdata\\local\\programs\\python\\python313\\lib\\site-packages (from huggingface-hub<1.0,>=0.30.0->transformers) (4.13.2)\n",
      "Requirement already satisfied: sympy>=1.13.3 in c:\\users\\shishir\\appdata\\local\\programs\\python\\python313\\lib\\site-packages (from torch) (1.14.0)\n",
      "Requirement already satisfied: networkx in c:\\users\\shishir\\appdata\\local\\programs\\python\\python313\\lib\\site-packages (from torch) (3.4.2)\n",
      "Requirement already satisfied: jinja2 in c:\\users\\shishir\\appdata\\local\\programs\\python\\python313\\lib\\site-packages (from torch) (3.1.5)\n",
      "Requirement already satisfied: setuptools in c:\\users\\shishir\\appdata\\local\\programs\\python\\python313\\lib\\site-packages (from torch) (75.8.0)\n",
      "Requirement already satisfied: mpmath<1.4,>=1.1.0 in c:\\users\\shishir\\appdata\\local\\programs\\python\\python313\\lib\\site-packages (from sympy>=1.13.3->torch) (1.3.0)\n",
      "Requirement already satisfied: colorama in c:\\users\\shishir\\appdata\\local\\programs\\python\\python313\\lib\\site-packages (from tqdm>=4.27->transformers) (0.4.6)\n",
      "Requirement already satisfied: MarkupSafe>=2.0 in c:\\users\\shishir\\appdata\\local\\programs\\python\\python313\\lib\\site-packages (from jinja2->torch) (3.0.2)\n",
      "Requirement already satisfied: charset-normalizer<4,>=2 in c:\\users\\shishir\\appdata\\local\\programs\\python\\python313\\lib\\site-packages (from requests->transformers) (3.4.1)\n",
      "Requirement already satisfied: idna<4,>=2.5 in c:\\users\\shishir\\appdata\\local\\programs\\python\\python313\\lib\\site-packages (from requests->transformers) (3.10)\n",
      "Requirement already satisfied: urllib3<3,>=1.21.1 in c:\\users\\shishir\\appdata\\local\\programs\\python\\python313\\lib\\site-packages (from requests->transformers) (2.3.0)\n",
      "Requirement already satisfied: certifi>=2017.4.17 in c:\\users\\shishir\\appdata\\local\\programs\\python\\python313\\lib\\site-packages (from requests->transformers) (2025.1.31)\n"
     ]
    }
   ],
   "source": [
    "# Step 1: Install Required Libraries\n",
    "!pip install transformers torch\n"
   ]
  },
  {
   "cell_type": "code",
   "execution_count": 2,
   "id": "872f7b73-3fe2-4bda-854a-0cc7bac53197",
   "metadata": {},
   "outputs": [],
   "source": [
    "# Step 2: Import Libraries\n",
    "from transformers import pipeline, set_seed\n",
    "import random"
   ]
  },
  {
   "cell_type": "code",
   "execution_count": 3,
   "id": "b1f44df4-055d-4f11-925c-5019803bfecc",
   "metadata": {},
   "outputs": [
    {
     "name": "stderr",
     "output_type": "stream",
     "text": [
      "Device set to use cpu\n"
     ]
    }
   ],
   "source": [
    "# Step 3: Set up the text generation pipeline\n",
    "generator = pipeline('text-generation', model='gpt2', framework='pt')\n",
    "set_seed(42)\n"
   ]
  },
  {
   "cell_type": "code",
   "execution_count": 22,
   "id": "c2b4ddb5-b9a1-4432-aa43-91815f83f734",
   "metadata": {},
   "outputs": [],
   "source": [
    "# Step 4: Define moods and sample prompts\n",
    "playlist_data = {\n",
    "    \"happy\": [\n",
    "        \"Happy - Pharrell Williams\",\n",
    "        \"Can't Stop the Feeling - Justin Timberlake\",\n",
    "        \"Uptown Funk - Bruno Mars\",\n",
    "        \"Shake It Off - Taylor Swift\",\n",
    "        \"Walking on Sunshine - Katrina & The Waves\"\n",
    "    ],\n",
    "    \"sad\": [\n",
    "        \"Someone Like You - Adele\",\n",
    "        \"Let Her Go - Passenger\",\n",
    "        \"Fix You - Coldplay\",\n",
    "        \"Happier - Ed Sheeran\",\n",
    "        \"Skinny Love - Bon Iver\"\n",
    "    ],\n",
    "    \"energetic\": [\n",
    "        \"Stronger - Kanye West\",\n",
    "        \"Titanium - David Guetta ft. Sia\",\n",
    "        \"Eye of the Tiger - Survivor\",\n",
    "        \"Don't Stop Me Now - Queen\",\n",
    "        \"Can't Hold Us - Macklemore & Ryan Lewis\"\n",
    "    ],\n",
    "    \"romantic\": [\n",
    "        \"Perfect - Ed Sheeran\",\n",
    "        \"All of Me - John Legend\",\n",
    "        \"Thinking Out Loud - Ed Sheeran\",\n",
    "        \"Just the Way You Are - Bruno Mars\",\n",
    "        \"A Thousand Years - Christina Perri\"\n",
    "    ],\n",
    "    \"relaxed\": [\n",
    "        \"Better Together - Jack Johnson\",\n",
    "        \"Come Away With Me - Norah Jones\",\n",
    "        \"Banana Pancakes - Jack Johnson\",\n",
    "        \"Holocene - Bon Iver\",\n",
    "        \"Gravity - John Mayer\"\n",
    "    ]\n",
    "}"
   ]
  },
  {
   "cell_type": "code",
   "execution_count": 23,
   "id": "0814265d-40cd-41b3-8961-fef0eabcac6d",
   "metadata": {},
   "outputs": [],
   "source": [
    "# Step 5: Mood Input\n",
    "def generate_playlist(mood):\n",
    "    mood = mood.lower()\n",
    "    if mood in playlist_data:\n",
    "        base_songs = playlist_data[mood]\n",
    "        intro = f\"You are feeling {mood}. Here are some great songs for that mood:\\n\"\n",
    "        full_prompt = intro + \"\\n\".join(base_songs) + \"\\n\\nAdd more songs:\"\n",
    "        \n",
    "        # Generate text using GPT-2\n",
    "        result = generator(full_prompt, max_length=150, num_return_sequences=1, pad_token_id=50256)\n",
    "        \n",
    "        # Extract only the newly generated part\n",
    "        generated_text = result[0]['generated_text']\n",
    "        generated_part = generated_text[len(full_prompt):].strip()\n",
    "        return intro + \"\\n\".join(base_songs) + \"\\n\" + generated_part\n",
    "    else:\n",
    "        return \"Sorry, mood not recognized. Please choose from: happy, sad, energetic, romantic, relaxed.\"\n"
   ]
  },
  {
   "cell_type": "code",
   "execution_count": 27,
   "id": "5d9abd5a-121a-462d-8520-b2c118869cb4",
   "metadata": {},
   "outputs": [
    {
     "name": "stdin",
     "output_type": "stream",
     "text": [
      "Enter a mood (happy, sad, energetic, romantic, relaxed):  sad\n"
     ]
    },
    {
     "name": "stdout",
     "output_type": "stream",
     "text": [
      "\n",
      "🎵 Generated Playlist:\n",
      "\n",
      "You are feeling sad. Here are some great songs for that mood:\n",
      "Someone Like You - Adele\n",
      "Let Her Go - Passenger\n",
      "Fix You - Coldplay\n",
      "Happier - Ed Sheeran\n",
      "Skinny Love - Bon Iver\n",
      "Jell-o - Get Up And Drive\n",
      "\n",
      "Eminem - Be Alright - New Order\n",
      "\n",
      "Paleo - You Got Me Thinking\n",
      "\n",
      "Walking - A Song For My Boyfriend\n",
      "\n",
      "Jingle Bells - Don't Say Goodbye - The Beatles\n",
      "\n",
      "Trouble for Love - Sia - Bon Iver\n",
      "\n",
      "Camel Blue - Feel No Turning Back - Bon Iver\n",
      "\n",
      "Jingle Bells - The Boy\n"
     ]
    }
   ],
   "source": [
    "# Step 6: Try it\n",
    "user_mood = input(\"Enter a mood (happy, sad, energetic, romantic, relaxed): \")\n",
    "print(\"\\n🎵 Generated Playlist:\\n\")\n",
    "print(generate_playlist(user_mood))\n"
   ]
  },
  {
   "cell_type": "code",
   "execution_count": null,
   "id": "da10b97d-0fa9-42a4-a22d-e92ce8518577",
   "metadata": {},
   "outputs": [],
   "source": []
  }
 ],
 "metadata": {
  "kernelspec": {
   "display_name": "Python 3 (ipykernel)",
   "language": "python",
   "name": "python3"
  },
  "language_info": {
   "codemirror_mode": {
    "name": "ipython",
    "version": 3
   },
   "file_extension": ".py",
   "mimetype": "text/x-python",
   "name": "python",
   "nbconvert_exporter": "python",
   "pygments_lexer": "ipython3",
   "version": "3.13.1"
  }
 },
 "nbformat": 4,
 "nbformat_minor": 5
}
